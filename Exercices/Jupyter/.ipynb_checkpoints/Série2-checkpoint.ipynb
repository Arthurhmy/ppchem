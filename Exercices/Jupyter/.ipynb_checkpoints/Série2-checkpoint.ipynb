{
 "cells": [
  {
   "cell_type": "code",
   "execution_count": 13,
   "id": "0ddc2a8d-7516-4862-bf5a-fbc6a9d2931b",
   "metadata": {},
   "outputs": [
    {
     "name": "stdout",
     "output_type": "stream",
     "text": [
      "Yes\n"
     ]
    }
   ],
   "source": [
    "atom = \"Oxygen\"\n",
    "atomic_number = 8 \n",
    "\n",
    "output = atom + str(atomic_number)\n",
    "if output == \"Oxygen8\":\n",
    "    print(\"Yes\")\n",
    "\n",
    "assert output == \"Oxygen8\""
   ]
  },
  {
   "cell_type": "code",
   "execution_count": 16,
   "id": "437a8cec-d7ce-4b51-9440-3860ce596848",
   "metadata": {},
   "outputs": [
    {
     "name": "stdout",
     "output_type": "stream",
     "text": [
      "False\n",
      "True\n",
      "True\n",
      "False\n",
      "False\n"
     ]
    }
   ],
   "source": [
    "a=False\n",
    "b = True\n",
    "c =False\n",
    "print(a and b)\n",
    "print(a or b)\n",
    "print(not a)\n",
    "print(not b and c)\n",
    "print((a and b) or c)"
   ]
  },
  {
   "cell_type": "code",
   "execution_count": 17,
   "id": "77a83e19-6ec6-419e-b208-3f1e9c5e108f",
   "metadata": {},
   "outputs": [
    {
     "name": "stdout",
     "output_type": "stream",
     "text": [
      "Answer 3\n"
     ]
    }
   ],
   "source": [
    "a = True \n",
    "b = False\n",
    "c = True\n",
    "if a: \n",
    "    if not c:\n",
    "        print(\"Answer 1\")\n",
    "    elif c and b :\n",
    "        print(\"Answer 2\")\n",
    "    print(\"Answer 3\")\n",
    "else :\n",
    "    print(\"Answer 4\")\n",
    "#sortie : Answer 3"
   ]
  },
  {
   "cell_type": "code",
   "execution_count": 21,
   "id": "fd6f4823-a9b2-42ab-8317-8d94da7e4dfe",
   "metadata": {},
   "outputs": [
    {
     "name": "stdout",
     "output_type": "stream",
     "text": [
      "False\n",
      "False\n",
      "True\n",
      "False\n",
      "False\n",
      "False\n",
      "False\n"
     ]
    }
   ],
   "source": [
    "a = \"Hydrogen\"\n",
    "b = \"oxygen\"\n",
    "c = 1\n",
    "d = 0\n",
    "e = \"\"\n",
    "f = -3\n",
    "g = None\n",
    "\n",
    "List = [a,b,c,d,e,f,g ]\n",
    "for values in List :\n",
    "    if values == True :\n",
    "        print(True)\n",
    "    else:\n",
    "        print(False)\n",
    "    \n"
   ]
  },
  {
   "cell_type": "code",
   "execution_count": 24,
   "id": "d9258ac6-f927-46aa-bda6-e982771e9e70",
   "metadata": {},
   "outputs": [
    {
     "name": "stdout",
     "output_type": "stream",
     "text": [
      "Lithium\n",
      "['Hydrogen', 'Helium', 'Lithium', 'Beryllium', 'Boron', 'Lead']\n"
     ]
    }
   ],
   "source": [
    "elements = [\"Hydrogen\", \"Helium\", \"Lithium\", \"Beryllium\", \"Boron\", \"Carbon\", \"Nitrogen\", \"Oxygen\", \"Fluorine\"]\n",
    "elements = [[\"Hydrogen\", \"Helium\", \"Lithium\"], [\"Beryllium\", \"Boron\", \"Carbon\"], [\"Nitrogen\", \"Oxygen\", \"Fluorine\"]]\n",
    "whacky_list = [1, 'dog', 3.14, [4, 5, 6]]\n",
    "element_list = [\"Hydrogen\", \"Helium\", \"Lithium\", \"Beryllium\", \"Boron\"]\n",
    "print(element_list[2])\n",
    "element_list.append(\"Lead\")\n",
    "print(element_list)"
   ]
  },
  {
   "cell_type": "code",
   "execution_count": 28,
   "id": "547f3791-d28e-4f83-a71e-03b977a5c1f3",
   "metadata": {},
   "outputs": [
    {
     "name": "stdout",
     "output_type": "stream",
     "text": [
      "['Hydrogen', 'Lithium', 'Beryllium', 'Helium', 'Boron']\n",
      "['Lithium', 'Beryllium', 'Helium', 'Boron']\n"
     ]
    }
   ],
   "source": [
    "element_list = [\"Hydrogen\", \"Lithium\", \"Beryllium\", \"Boron\"]\n",
    "element_list.insert(3, 'Helium')\n",
    "print(element_list)\n",
    "element_list.remove(\"Hydrogen\")\n",
    "print(element_list)"
   ]
  },
  {
   "cell_type": "code",
   "execution_count": 29,
   "id": "0686957c-d9fe-4cde-9d21-5da81ab691de",
   "metadata": {},
   "outputs": [
    {
     "name": "stdout",
     "output_type": "stream",
     "text": [
      "Boron\n",
      "Helium\n",
      "['Hydrogen', 'Lithium', 'Beryllium']\n"
     ]
    }
   ],
   "source": [
    "element_list = [\"Hydrogen\", \"Helium\", \"Lithium\", \"Beryllium\", \"Boron\"]\n",
    "\n",
    "a = element_list.pop(-1)\n",
    "print(a)\n",
    "\n",
    "b = element_list.pop(1)\n",
    "print(b)\n",
    "\n",
    "print(element_list)"
   ]
  },
  {
   "cell_type": "code",
   "execution_count": 30,
   "id": "95da2d44-aeae-456f-821a-b0a40c7492aa",
   "metadata": {},
   "outputs": [
    {
     "name": "stdout",
     "output_type": "stream",
     "text": [
      "[]\n"
     ]
    }
   ],
   "source": [
    "element_list.clear()\n",
    "print(element_list)"
   ]
  },
  {
   "cell_type": "code",
   "execution_count": 34,
   "id": "e2c51abf-9c98-4c47-a53c-11110b542e63",
   "metadata": {},
   "outputs": [
    {
     "name": "stdout",
     "output_type": "stream",
     "text": [
      "['Hydrogen', 'Helium', 'Lithium', 'Beryllium', 'Boron', 'Nitrogen', 'Oxygen', 'Fluorine']\n",
      "8\n"
     ]
    }
   ],
   "source": [
    "element_list_1 = [\"Hydrogen\", \"Helium\", \"Lithium\", \"Beryllium\", \"Boron\"]\n",
    "element_list_2= [\"Nitrogen\", \"Oxygen\", \"Fluorine\"]\n",
    "element_list_3 = element_list_1 + element_list_2\n",
    "print(element_list_3)\n",
    "\n",
    "print(len(element_list_3))"
   ]
  },
  {
   "cell_type": "code",
   "execution_count": 32,
   "id": "f2c7f368-3115-42f0-8e2e-7207658567c7",
   "metadata": {},
   "outputs": [
    {
     "data": {
      "text/plain": [
       "['Hydrogen', 'Helium', 'Lithium']"
      ]
     },
     "execution_count": 32,
     "metadata": {},
     "output_type": "execute_result"
    }
   ],
   "source": [
    "element_list = [\"Hydrogen\", \"Helium\", \"Lithium\", \"Beryllium\", \"Boron\", \"Carbon\", \"Nitrogen\", \"Oxygen\", \"Fluorine\"]\n",
    "start = 0\n",
    "end = 3\n",
    "\n",
    "element_list[start:end]"
   ]
  },
  {
   "cell_type": "code",
   "execution_count": 37,
   "id": "b4f023a4-fc10-44e5-ab24-58696c071f12",
   "metadata": {},
   "outputs": [
    {
     "name": "stdout",
     "output_type": "stream",
     "text": [
      "['Nitrogen', 'Oxygen', 'Fluorine']\n"
     ]
    }
   ],
   "source": [
    "print(element_list[6:])"
   ]
  },
  {
   "cell_type": "code",
   "execution_count": 42,
   "id": "47ca119b-a2cf-43c3-8495-8b7312825b61",
   "metadata": {},
   "outputs": [
    {
     "name": "stdout",
     "output_type": "stream",
     "text": [
      "['Hydrogen', 'Lithium', 'Boron']\n"
     ]
    }
   ],
   "source": [
    "print(element_list[:5:2])"
   ]
  },
  {
   "cell_type": "code",
   "execution_count": 54,
   "id": "e62cf84e-daaa-460c-b5b2-60b620791450",
   "metadata": {},
   "outputs": [
    {
     "name": "stdout",
     "output_type": "stream",
     "text": [
      "['Hydrogen', 'Lithium', 'Boron', 'Nitrogen', 'Fluorine']\n",
      "['Hydrogen', 'Lithium', 'Boron', 'Nitrogen', 'Fluorine']\n"
     ]
    }
   ],
   "source": [
    "print(element_list[::2])\n",
    "print(element_list[0::2])"
   ]
  },
  {
   "cell_type": "code",
   "execution_count": 72,
   "id": "609dfaee-1e5e-409a-a716-93888f007a37",
   "metadata": {},
   "outputs": [
    {
     "name": "stdout",
     "output_type": "stream",
     "text": [
      "5\n",
      "['Hydrogen', 'Helium', 'Lithium', 'Beryllium', 'Boron']\n",
      "['Carbon', 'Nitrogen', 'Oxygen', 'Fluorine', 'Sodium']\n"
     ]
    }
   ],
   "source": [
    "test_even = [\"Hydrogen\", \"Helium\", \"Lithium\", \"Beryllium\", \"Boron\", \"Carbon\", \"Nitrogen\", \"Oxygen\", \"Fluorine\", \"Sodium\"]\n",
    "test_odd = [\"Hydrogen\", \"Helium\", \"Lithium\", \"Beryllium\", \"Boron\", \"Carbon\", \"Nitrogen\", \"Oxygen\", \"Fluorine\"]\n",
    "\n",
    "\n",
    "middle_index = int(len(test_even)//2)\n",
    "print(middle_index)\n",
    "first_half = test_even[:int(len(test_even)//2)]\n",
    "print(first_half)\n",
    "second_half = test_even[int(middle_index):]\n",
    "print(second_half)\n",
    "\n",
    "assert (middle_index, first_half, second_half) == (5, [\"Hydrogen\", \"Helium\", \"Lithium\", \"Beryllium\", \"Boron\"],[\"Carbon\", \"Nitrogen\", \"Oxygen\", \"Fluorine\", \"Sodium\"])"
   ]
  },
  {
   "cell_type": "code",
   "execution_count": 83,
   "id": "b60a9359-7358-4e04-9873-d90099969ecb",
   "metadata": {},
   "outputs": [
    {
     "name": "stdout",
     "output_type": "stream",
     "text": [
      "5\n",
      "['Hydrogen', 'Helium', 'Lithium', 'Beryllium', 'Boron']\n",
      "['Carbon', 'Nitrogen', 'Oxygen', 'Fluorine']\n"
     ]
    }
   ],
   "source": [
    "test_even = [\"Hydrogen\", \"Helium\", \"Lithium\", \"Beryllium\", \"Boron\", \"Carbon\", \"Nitrogen\", \"Oxygen\", \"Fluorine\", \"Sodium\"]\n",
    "test_odd = [\"Hydrogen\", \"Helium\", \"Lithium\", \"Beryllium\", \"Boron\", \"Carbon\", \"Nitrogen\", \"Oxygen\", \"Fluorine\"]\n",
    "\n",
    "\n",
    "\n",
    "middle_index = int(len(test_odd)//2 +1)\n",
    "print(middle_index)\n",
    "\n",
    "first_half = test_odd[:int(middle_index)]\n",
    "print(first_half)\n",
    "\n",
    "second_half = test_odd[int(middle_index):]\n",
    "print(second_half)\n",
    "\n",
    "assert (middle_index, first_half, second_half) == (5, [\"Hydrogen\", \"Helium\", \"Lithium\", \"Beryllium\", \"Boron\"], [\"Carbon\", \"Nitrogen\", \"Oxygen\", \"Fluorine\"])"
   ]
  },
  {
   "cell_type": "code",
   "execution_count": 85,
   "id": "6cd5c016-a4c8-401d-902a-c4316a35383b",
   "metadata": {},
   "outputs": [
    {
     "name": "stdout",
     "output_type": "stream",
     "text": [
      "Base\n",
      "{'porte': 'objet', 'cle': 'objet'}\n"
     ]
    }
   ],
   "source": [
    "acid_bases = {'NaBH4' : 'Base', 'H2SO4' : 'Acid', 'NaOH' : 'Base'}\n",
    "print(acid_bases['NaBH4'])\n",
    "acid_bases['HCl'] = 'Acid'\n",
    "maison = {\"porte\" : \"objet\"}\n",
    "maison[\"cle\"]= \"objet\"\n",
    "print(maison)\n"
   ]
  },
  {
   "cell_type": "code",
   "execution_count": 90,
   "id": "ad698360-34df-47dd-b1c4-026bbaec666a",
   "metadata": {},
   "outputs": [
    {
     "ename": "KeyError",
     "evalue": "'objet'",
     "output_type": "error",
     "traceback": [
      "\u001b[1;31m---------------------------------------------------------------------------\u001b[0m",
      "\u001b[1;31mKeyError\u001b[0m                                  Traceback (most recent call last)",
      "Cell \u001b[1;32mIn[90], line 1\u001b[0m\n\u001b[1;32m----> 1\u001b[0m \u001b[38;5;28mprint\u001b[39m(\u001b[43mmaison\u001b[49m\u001b[43m[\u001b[49m\u001b[38;5;124;43m\"\u001b[39;49m\u001b[38;5;124;43mobjet\u001b[39;49m\u001b[38;5;124;43m\"\u001b[39;49m\u001b[43m]\u001b[49m)\n",
      "\u001b[1;31mKeyError\u001b[0m: 'objet'"
     ]
    }
   ],
   "source": [
    "print(maison[\"objet\"])"
   ]
  },
  {
   "cell_type": "code",
   "execution_count": 91,
   "id": "935b79d0-6a43-4243-a238-4d30ddaeecfa",
   "metadata": {},
   "outputs": [
    {
     "name": "stdout",
     "output_type": "stream",
     "text": [
      "{'NaBH4': 'Base', 'H2SO4': 'Acid', 'NaOH': 'Base'}\n"
     ]
    }
   ],
   "source": [
    "del acid_bases[\"HCl\"]\n",
    "print(acid_bases)"
   ]
  },
  {
   "cell_type": "code",
   "execution_count": 92,
   "id": "6c2f1d01-9730-4db2-ae6c-efc58abf6ac5",
   "metadata": {},
   "outputs": [
    {
     "name": "stdout",
     "output_type": "stream",
     "text": [
      "Current pH: 2\n",
      "Solution is too acidic. Adding a base to increase pH.\n",
      "Current pH: 3\n",
      "Solution is too acidic. Adding a base to increase pH.\n",
      "Current pH: 4\n",
      "Solution is too acidic. Adding a base to increase pH.\n",
      "Current pH: 5\n",
      "Solution is too acidic. Adding a base to increase pH.\n",
      "Current pH: 6\n",
      "Solution is too acidic. Adding a base to increase pH.\n",
      "Solution is now neutral.\n"
     ]
    }
   ],
   "source": [
    "pH = 2  # Assume we start the pH at 2 (which is acidic)\n",
    "\n",
    "while pH != 7:  # while the pH is not neutral\n",
    "    print(f\"Current pH: {pH}\")\n",
    "    if pH < 7:  # if the environment is acidic\n",
    "        print(\"Solution is too acidic. Adding a base to increase pH.\")\n",
    "        pH += 1  # add a base to increase the pH\n",
    "    elif pH > 7:  # if the environment is basic\n",
    "        print(\"Solution is too basic. Adding an acid to decrease pH.\")\n",
    "        pH -= 1  # add an acid to reduce the pH\n",
    "        \n",
    "print(\"Solution is now neutral.\")"
   ]
  },
  {
   "cell_type": "code",
   "execution_count": 93,
   "id": "766453a6-abdb-41ac-998c-649d9689af1a",
   "metadata": {},
   "outputs": [
    {
     "name": "stdout",
     "output_type": "stream",
     "text": [
      "Element 1: Hydrogen\n",
      "Element 2: Helium\n",
      "Element 3: Lithium\n",
      "Element 4: Beryllium\n",
      "Element 5: Boron\n",
      "Element 6: Carbon\n",
      "Element 7: Nitrogen\n",
      "Element 8: Oxygen\n",
      "Element 9: Fluorine\n"
     ]
    }
   ],
   "source": [
    "counter = 0\n",
    "max_count = 9\n",
    "\n",
    "# Here is the list of the first nine chemical elements:\n",
    "elements = [\"Hydrogen\", \"Helium\", \"Lithium\", \"Beryllium\", \"Boron\", \"Carbon\", \"Nitrogen\", \"Oxygen\", \"Fluorine\"]\n",
    "\n",
    "while counter < max_count:\n",
    "    # Here we print the element at the current index\n",
    "    # Note the adjustment for 0-based indexing\n",
    "    print(f\"Element {counter + 1}: {elements[counter]}\")\n",
    "    counter += 1"
   ]
  },
  {
   "cell_type": "code",
   "execution_count": 95,
   "id": "28a3cc56-e572-4bb6-8045-4925e0ccb0f5",
   "metadata": {},
   "outputs": [
    {
     "name": "stdout",
     "output_type": "stream",
     "text": [
      "Iron\n",
      "Zinc\n"
     ]
    }
   ],
   "source": [
    "elements = [\"Iron\", \"Copper\", \"Zinc\", \"Gold\", \"Silver\", \"Platinum\"]\n",
    "\n",
    "for element in elements:\n",
    "    if element == \"Copper\":\n",
    "        continue\n",
    "    if element == \"Gold\":\n",
    "        break\n",
    "    print(element)\n",
    "#sortie = iron, zinc"
   ]
  },
  {
   "cell_type": "code",
   "execution_count": 98,
   "id": "1a5b9f87-d57a-4ce5-af94-f5e4dac0818a",
   "metadata": {},
   "outputs": [
    {
     "name": "stdout",
     "output_type": "stream",
     "text": [
      "25\n",
      "12\n",
      "6\n",
      "3\n",
      "The substance needs to be diluted 4 times to reach the desired concentration.\n"
     ]
    }
   ],
   "source": [
    "initial_concentration = 50\n",
    "\n",
    "final_concentration = 3\n",
    "\n",
    "# Counter for the number of dilutions\n",
    "dilution_count = 0\n",
    "\n",
    "while initial_concentration != final_concentration :\n",
    "    initial_concentration = initial_concentration //2 \n",
    "    print(initial_concentration)\n",
    "    dilution_count += 1 \n",
    "    \n",
    "\n",
    "print(\"The substance needs to be diluted {} times to reach the desired concentration.\".format(dilution_count))\n"
   ]
  },
  {
   "cell_type": "code",
   "execution_count": 99,
   "id": "ce31ebaa-847b-4075-aa27-3de356c61a27",
   "metadata": {},
   "outputs": [
    {
     "name": "stdout",
     "output_type": "stream",
     "text": [
      "Hydrogen\n",
      "Helium\n",
      "Lithium\n",
      "Beryllium\n",
      "Boron\n",
      "Carbon\n",
      "Nitrogen\n",
      "Oxygen\n",
      "Fluorine\n"
     ]
    }
   ],
   "source": [
    "elements = [\"Hydrogen\", \"Helium\", \"Lithium\", \"Beryllium\", \"Boron\", \"Carbon\", \"Nitrogen\", \"Oxygen\", \"Fluorine\"]\n",
    "\n",
    "for element in elements:\n",
    "    print(element)"
   ]
  },
  {
   "cell_type": "code",
   "execution_count": 100,
   "id": "65e15f0e-e6af-47ad-a527-7301dd5de31c",
   "metadata": {},
   "outputs": [
    {
     "name": "stdout",
     "output_type": "stream",
     "text": [
      "Fluorine\n",
      "Oxygen\n",
      "Nitrogen\n",
      "Carbon\n",
      "Boron\n",
      "Beryllium\n",
      "Lithium\n",
      "Helium\n",
      "Hydrogen\n"
     ]
    }
   ],
   "source": [
    "elements = [\"Hydrogen\", \"Helium\", \"Lithium\", \"Beryllium\", \"Boron\", \"Carbon\", \"Nitrogen\", \"Oxygen\", \"Fluorine\"]\n",
    "\n",
    "for element in reversed(elements):\n",
    "    print(element)"
   ]
  },
  {
   "cell_type": "code",
   "execution_count": 101,
   "id": "d92bbb0f-4a21-4827-a0d7-7905f4dbde63",
   "metadata": {},
   "outputs": [
    {
     "name": "stdout",
     "output_type": "stream",
     "text": [
      "Hydrogen: 1\n",
      "Helium: 2\n",
      "Lithium: 3\n",
      "Beryllium: 4\n",
      "Boron: 5\n",
      "Carbon: 6\n",
      "Nitrogen: 7\n",
      "Oxygen: 8\n",
      "Fluorine: 9\n"
     ]
    }
   ],
   "source": [
    "elements = [\"Hydrogen\", \"Helium\", \"Lithium\", \"Beryllium\", \"Boron\", \"Carbon\", \"Nitrogen\", \"Oxygen\", \"Fluorine\"]\n",
    "for idx, element in enumerate(elements):\n",
    "    print(f\"{element}: {idx + 1}\")"
   ]
  },
  {
   "cell_type": "code",
   "execution_count": 102,
   "id": "0f903904-846a-4bb6-ac28-c9636ef1ac96",
   "metadata": {},
   "outputs": [
    {
     "name": "stdout",
     "output_type": "stream",
     "text": [
      "['Hydrogen', 'Helium', 'Lithium', 'Beryllium', 'Boron', 'Carbon', 'Nitrogen', 'Oxygen', 'Fluorine']\n"
     ]
    }
   ],
   "source": [
    "elements = [\"Hydrogen\", \"Helium\", \"Lithium\", \"Beryllium\", \"Boron\", \"Carbon\", \"Nitrogen\", \"Oxygen\", \"Fluorine\"]\n",
    "\n",
    "for idx, element in enumerate(reversed(elements)):\n",
    "    element = element.lower() + ' : ' + str(idx + 1)\n",
    "\n",
    "print(elements)"
   ]
  },
  {
   "cell_type": "code",
   "execution_count": null,
   "id": "d3058644-3944-414d-970b-bec15253fcae",
   "metadata": {},
   "outputs": [],
   "source": []
  }
 ],
 "metadata": {
  "kernelspec": {
   "display_name": "Python 3 (ipykernel)",
   "language": "python",
   "name": "python3"
  },
  "language_info": {
   "codemirror_mode": {
    "name": "ipython",
    "version": 3
   },
   "file_extension": ".py",
   "mimetype": "text/x-python",
   "name": "python",
   "nbconvert_exporter": "python",
   "pygments_lexer": "ipython3",
   "version": "3.10.13"
  }
 },
 "nbformat": 4,
 "nbformat_minor": 5
}
