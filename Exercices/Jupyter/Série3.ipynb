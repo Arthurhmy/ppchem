{
 "cells": [
  {
   "cell_type": "code",
   "execution_count": 4,
   "metadata": {},
   "outputs": [
    {
     "name": "stdout",
     "output_type": "stream",
     "text": [
      "Current Directory: C:\\Users\\maintenant Pret\\OneDrive\\Documents\\GitHub\\ppchem\\Exercices\\Jupyter\n",
      "The file does not exist.\n"
     ]
    }
   ],
   "source": [
    "from pathlib import Path\n",
    "\n",
    "# Create a Path object for the current directory\n",
    "current_directory = Path.cwd()\n",
    "print(\"Current Directory:\", current_directory.resolve())\n",
    "\n",
    "# Creating a Path object for an example file that does not yet exist\n",
    "example_file_path = current_directory / \"file.ipynb\"\n",
    "\n",
    "# Reading the contents of the file\n",
    "if example_file_path.exists():\n",
    "    with example_file_path.open(\"r\") as file:\n",
    "        content = file.read()\n",
    "        print(content)\n",
    "else:\n",
    "    print(\"The file does not exist.\")"
   ]
  },
  {
   "cell_type": "code",
   "execution_count": 8,
   "metadata": {},
   "outputs": [
    {
     "name": "stdout",
     "output_type": "stream",
     "text": [
      "\n"
     ]
    }
   ],
   "source": [
    "example_file_path.touch()\n",
    "\n",
    "# Reading the contents of the file\n",
    "if example_file_path.exists():\n",
    "    with example_file_path.open(\"r\") as file:\n",
    "        content = file.read()\n",
    "        print(content)\n",
    "else:\n",
    "    print(\"The file does not exist.\")"
   ]
  },
  {
   "cell_type": "code",
   "execution_count": 9,
   "metadata": {},
   "outputs": [],
   "source": [
    "molecule_name = \"Caffeine\"\n",
    "molecule_image_url = \"https://github.com/Arthurhmy/ppchem/blob/main/caffeine-148821_1280.png\"\n",
    "molecule_description = \"Caffeine is a central nervous system (CNS) stimulant of the methylxanthine class.\"\n",
    "# Define path\n",
    "molecule_info_path = current_directory / \"molecule_info.txt\"\n",
    "\n",
    "# Create file\n",
    "molecule_info_path.touch()\n",
    "\n",
    "# Write to file\n",
    "with molecule_info_path.open(\"w\") as file:\n",
    "    file.write(\n",
    "        f\"Molecule: {molecule_name}\\n\"\n",
    "        f\"Image URL: {molecule_image_url}\\n\"\n",
    "        f\"Description: {molecule_description}\")"
   ]
  },
  {
   "cell_type": "code",
   "execution_count": 10,
   "metadata": {},
   "outputs": [
    {
     "name": "stdout",
     "output_type": "stream",
     "text": [
      "File exists but is empty.\n"
     ]
    }
   ],
   "source": [
    "if example_file_path.exists():\n",
    "    with example_file_path.open(\"r\") as file:\n",
    "        content = file.read()\n",
    "        if len(content) == 0:\n",
    "            print(\"File exists but is empty.\")\n",
    "        else:\n",
    "            print(content)\n",
    "else:\n",
    "    print(\"The file does not exist.\")"
   ]
  },
  {
   "cell_type": "code",
   "execution_count": 15,
   "metadata": {},
   "outputs": [
    {
     "name": "stdout",
     "output_type": "stream",
     "text": [
      "File exists but is empty.\n",
      "Molecule: Caffeine\n",
      "Image URL: https://github.com/Arthurhmy/ppchem/blob/main/caffeine-148821_1280.png\n",
      "Description: Caffeine is a central nervous system (CNS) stimulant of the methylxanthine class.\n"
     ]
    }
   ],
   "source": [
    "def check_file_existence_and_read_contents(file_path_object: Path):\n",
    "    \"\"\"\n",
    "    Checks the existence of the file whose path is pointed to in the input variable\n",
    "    `file_path_object`. \n",
    "    \n",
    "    If it exists and is empty, prints \"File exists but is empty. If it exists and is not\n",
    "    empty, prints the contents of the file. If it doesn't exist, prints \"The file does\n",
    "    not exist.\"\n",
    "\n",
    "    :param file_path_object: the `pathlib.Path` object pointing to the absolute path of\n",
    "        the file to be checked and read.\n",
    "    \"\"\"\n",
    "    if file_path_object.exists():  # exists\n",
    "\n",
    "        # 'with' is what's known as acontext manager. It keeps the file open while we\n",
    "        # are running code inside the `with` block, but closes it when leaving the code\n",
    "        # block.\n",
    "        with file_path_object.open(\"r\") as file:\n",
    "            content = file.read()  # read contents of the file\n",
    "\n",
    "            if len(content) == 0:  # empty\n",
    "                print(\"File exists but is empty.\")\n",
    "\n",
    "            else:  # not empty\n",
    "                print(content)\n",
    "\n",
    "    else:  # doesn't exist\n",
    "        print(\"The file does not exist.\")\n",
    "\n",
    "check_file_existence_and_read_contents(example_file_path)\n",
    "check_file_existence_and_read_contents(molecule_info_path)"
   ]
  },
  {
   "cell_type": "code",
   "execution_count": 16,
   "metadata": {},
   "outputs": [
    {
     "name": "stdout",
     "output_type": "stream",
     "text": [
      "Experimental yield: 85.0 %\n"
     ]
    }
   ],
   "source": [
    "def reaction_yield(theoretical_yield, actual_yield):\n",
    "    \"\"\"\n",
    "    Calculate the percent yield of a reaction.\n",
    "    theoretical_yield: Theoretical yield in grams\n",
    "    actual_yield: Actual yield obtained from the reaction in grams\n",
    "    Returns the percent yield as a percentage.\n",
    "    \"\"\"\n",
    "    percent_yield = (actual_yield / theoretical_yield) * 100\n",
    "    return percent_yield\n",
    "# Example usage:\n",
    "yield_percent = reaction_yield(10.0, 8.5)\n",
    "print(f\"Experimental yield: {yield_percent} %\")"
   ]
  },
  {
   "cell_type": "code",
   "execution_count": 17,
   "metadata": {},
   "outputs": [
    {
     "name": "stdout",
     "output_type": "stream",
     "text": [
      "Experimental yield: -85.0 %\n"
     ]
    }
   ],
   "source": [
    "yield_percent = reaction_yield(-10.0, 8.5)\n",
    "print(f\"Experimental yield: {yield_percent} %\")"
   ]
  },
  {
   "cell_type": "code",
   "execution_count": 18,
   "metadata": {},
   "outputs": [
    {
     "name": "stdout",
     "output_type": "stream",
     "text": [
      "Experimental yield: 123450.0 %\n"
     ]
    }
   ],
   "source": [
    "yield_percent = reaction_yield(theoretical_yield=10.0, actual_yield=12345)\n",
    "print(f\"Experimental yield: {yield_percent} %\")"
   ]
  },
  {
   "cell_type": "code",
   "execution_count": 19,
   "metadata": {},
   "outputs": [
    {
     "ename": "TypeError",
     "evalue": "unsupported operand type(s) for /: 'int' and 'str'",
     "output_type": "error",
     "traceback": [
      "\u001b[1;31m---------------------------------------------------------------------------\u001b[0m",
      "\u001b[1;31mTypeError\u001b[0m                                 Traceback (most recent call last)",
      "Cell \u001b[1;32mIn[19], line 1\u001b[0m\n\u001b[1;32m----> 1\u001b[0m yield_percent \u001b[38;5;241m=\u001b[39m \u001b[43mreaction_yield\u001b[49m\u001b[43m(\u001b[49m\u001b[38;5;124;43m\"\u001b[39;49m\u001b[38;5;124;43mI never took chemistry\u001b[39;49m\u001b[38;5;124;43m\"\u001b[39;49m\u001b[43m,\u001b[49m\u001b[43m \u001b[49m\u001b[38;5;241;43m101\u001b[39;49m\u001b[43m)\u001b[49m  \u001b[38;5;66;03m# passing a string and an integer\u001b[39;00m\n\u001b[0;32m      2\u001b[0m \u001b[38;5;28mprint\u001b[39m(\u001b[38;5;124mf\u001b[39m\u001b[38;5;124m\"\u001b[39m\u001b[38;5;124mExperimental yield: \u001b[39m\u001b[38;5;132;01m{\u001b[39;00myield_percent\u001b[38;5;132;01m}\u001b[39;00m\u001b[38;5;124m %\u001b[39m\u001b[38;5;124m\"\u001b[39m)\n",
      "Cell \u001b[1;32mIn[16], line 8\u001b[0m, in \u001b[0;36mreaction_yield\u001b[1;34m(theoretical_yield, actual_yield)\u001b[0m\n\u001b[0;32m      1\u001b[0m \u001b[38;5;28;01mdef\u001b[39;00m \u001b[38;5;21mreaction_yield\u001b[39m(theoretical_yield, actual_yield):\n\u001b[0;32m      2\u001b[0m \u001b[38;5;250m    \u001b[39m\u001b[38;5;124;03m\"\"\"\u001b[39;00m\n\u001b[0;32m      3\u001b[0m \u001b[38;5;124;03m    Calculate the percent yield of a reaction.\u001b[39;00m\n\u001b[0;32m      4\u001b[0m \u001b[38;5;124;03m    theoretical_yield: Theoretical yield in grams\u001b[39;00m\n\u001b[0;32m      5\u001b[0m \u001b[38;5;124;03m    actual_yield: Actual yield obtained from the reaction in grams\u001b[39;00m\n\u001b[0;32m      6\u001b[0m \u001b[38;5;124;03m    Returns the percent yield as a percentage.\u001b[39;00m\n\u001b[0;32m      7\u001b[0m \u001b[38;5;124;03m    \"\"\"\u001b[39;00m\n\u001b[1;32m----> 8\u001b[0m     percent_yield \u001b[38;5;241m=\u001b[39m (\u001b[43mactual_yield\u001b[49m\u001b[43m \u001b[49m\u001b[38;5;241;43m/\u001b[39;49m\u001b[43m \u001b[49m\u001b[43mtheoretical_yield\u001b[49m) \u001b[38;5;241m*\u001b[39m \u001b[38;5;241m100\u001b[39m\n\u001b[0;32m      9\u001b[0m     \u001b[38;5;28;01mreturn\u001b[39;00m percent_yield\n",
      "\u001b[1;31mTypeError\u001b[0m: unsupported operand type(s) for /: 'int' and 'str'"
     ]
    }
   ],
   "source": [
    "yield_percent = reaction_yield(\"I never took chemistry\", 101)  # passing a string and an integer\n",
    "print(f\"Experimental yield: {yield_percent} %\")"
   ]
  },
  {
   "cell_type": "code",
   "execution_count": 21,
   "metadata": {},
   "outputs": [
    {
     "ename": "ValueError",
     "evalue": "Input yields must be a non-negative float",
     "output_type": "error",
     "traceback": [
      "\u001b[1;31m---------------------------------------------------------------------------\u001b[0m",
      "\u001b[1;31mValueError\u001b[0m                                Traceback (most recent call last)",
      "Cell \u001b[1;32mIn[21], line 37\u001b[0m\n\u001b[0;32m     35\u001b[0m     \u001b[38;5;28;01mreturn\u001b[39;00m percent_yield\n\u001b[0;32m     36\u001b[0m \u001b[38;5;66;03m# This does (and should) raise an error!\u001b[39;00m\n\u001b[1;32m---> 37\u001b[0m yield_percent \u001b[38;5;241m=\u001b[39m \u001b[43mreaction_yield\u001b[49m\u001b[43m(\u001b[49m\u001b[38;5;241;43m-\u001b[39;49m\u001b[38;5;241;43m10.0\u001b[39;49m\u001b[43m,\u001b[49m\u001b[43m \u001b[49m\u001b[38;5;241;43m8.5\u001b[39;49m\u001b[43m)\u001b[49m\n\u001b[0;32m     38\u001b[0m \u001b[38;5;28mprint\u001b[39m(\u001b[38;5;124mf\u001b[39m\u001b[38;5;124m\"\u001b[39m\u001b[38;5;124mExperimental yield: \u001b[39m\u001b[38;5;132;01m{\u001b[39;00myield_percent\u001b[38;5;132;01m}\u001b[39;00m\u001b[38;5;124m %\u001b[39m\u001b[38;5;124m\"\u001b[39m)\n",
      "Cell \u001b[1;32mIn[21], line 27\u001b[0m, in \u001b[0;36mreaction_yield\u001b[1;34m(theoretical_yield, actual_yield)\u001b[0m\n\u001b[0;32m     25\u001b[0m \u001b[38;5;66;03m# Input checks\u001b[39;00m\n\u001b[0;32m     26\u001b[0m \u001b[38;5;28;01mif\u001b[39;00m theoretical_yield \u001b[38;5;241m<\u001b[39m \u001b[38;5;241m0\u001b[39m \u001b[38;5;129;01mor\u001b[39;00m actual_yield \u001b[38;5;241m<\u001b[39m \u001b[38;5;241m0\u001b[39m:  \u001b[38;5;66;03m# yields should be non-negative\u001b[39;00m\n\u001b[1;32m---> 27\u001b[0m     \u001b[38;5;28;01mraise\u001b[39;00m \u001b[38;5;167;01mValueError\u001b[39;00m(\u001b[38;5;124m\"\u001b[39m\u001b[38;5;124mInput yields must be a non-negative float\u001b[39m\u001b[38;5;124m\"\u001b[39m)\n\u001b[0;32m     29\u001b[0m \u001b[38;5;28;01mif\u001b[39;00m actual_yield \u001b[38;5;241m>\u001b[39m theoretical_yield:  \u001b[38;5;66;03m# actual yield can't be more than the theoretical\u001b[39;00m\n\u001b[0;32m     30\u001b[0m     \u001b[38;5;66;03m# TODO: add a descriptive error message here\u001b[39;00m\n\u001b[0;32m     31\u001b[0m     \u001b[38;5;28;01mraise\u001b[39;00m \u001b[38;5;167;01mValueError\u001b[39;00m(\u001b[38;5;124m\"\u001b[39m\u001b[38;5;124mThere is a problem..\u001b[39m\u001b[38;5;124m\"\u001b[39m)\n",
      "\u001b[1;31mValueError\u001b[0m: Input yields must be a non-negative float"
     ]
    }
   ],
   "source": [
    "# TODO: add a descriptive error message to that checks the relationship between the\n",
    "# theoretical and actual yields\n",
    "\n",
    "def reaction_yield(theoretical_yield: float, actual_yield: float) -> float:\n",
    "    \"\"\"\n",
    "    Calculates the percent yield of a reaction.\n",
    "\n",
    "    :param theoretical_yield: float, the theoretical yield of the reaction, in grams.\n",
    "    :param actual_yield: float, the actual yield obtained from the reaction, in grams.\n",
    "    \n",
    "    :return: float, the yield of the reaction as a percentage.\n",
    "    \"\"\"\n",
    "    # Type checks: input yields should be passed as floats\n",
    "    if not isinstance(theoretical_yield, float):\n",
    "        raise TypeError(\n",
    "            f\"Invalid type {type(theoretical_yield)}: `theoretical_yield`\"\n",
    "            \" should be passed as a float.\"\n",
    "        )\n",
    "    if not isinstance(actual_yield, float):\n",
    "        raise TypeError(\n",
    "            f\"Invalid type {type(actual_yield)}: `actual_yield`\"\n",
    "            \" should be passed as a float.\"\n",
    "        )\n",
    "\n",
    "    # Input checks\n",
    "    if theoretical_yield < 0 or actual_yield < 0:  # yields should be non-negative\n",
    "        raise ValueError(\"Input yields must be a non-negative float\")\n",
    "\n",
    "    if actual_yield > theoretical_yield:  # actual yield can't be more than the theoretical\n",
    "        # TODO: add a descriptive error message here\n",
    "        raise ValueError(\"There is a problem..\")\n",
    "\n",
    "    # Calculate the yield and return\n",
    "    percent_yield = (actual_yield / theoretical_yield) * 100\n",
    "    return percent_yield\n",
    "# This does (and should) raise an error!\n",
    "yield_percent = reaction_yield(-10.0, 8.5)\n",
    "print(f\"Experimental yield: {yield_percent} %\")"
   ]
  },
  {
   "cell_type": "code",
   "execution_count": 22,
   "metadata": {},
   "outputs": [
    {
     "ename": "TypeError",
     "evalue": "Invalid type <class 'str'>: `theoretical_yield` should be passed as a float.",
     "output_type": "error",
     "traceback": [
      "\u001b[1;31m---------------------------------------------------------------------------\u001b[0m",
      "\u001b[1;31mTypeError\u001b[0m                                 Traceback (most recent call last)",
      "Cell \u001b[1;32mIn[22], line 2\u001b[0m\n\u001b[0;32m      1\u001b[0m \u001b[38;5;66;03m# This gives a much nicer error message than: \"TypeError: unsupported operand type(s) for /: 'int' and 'str'\"\u001b[39;00m\n\u001b[1;32m----> 2\u001b[0m yield_percent \u001b[38;5;241m=\u001b[39m \u001b[43mreaction_yield\u001b[49m\u001b[43m(\u001b[49m\u001b[38;5;124;43m\"\u001b[39;49m\u001b[38;5;124;43mI never took chemistry\u001b[39;49m\u001b[38;5;124;43m\"\u001b[39;49m\u001b[43m,\u001b[49m\u001b[43m \u001b[49m\u001b[38;5;241;43m101\u001b[39;49m\u001b[43m)\u001b[49m\n\u001b[0;32m      3\u001b[0m \u001b[38;5;28mprint\u001b[39m(\u001b[38;5;124mf\u001b[39m\u001b[38;5;124m\"\u001b[39m\u001b[38;5;124mExperimental yield: \u001b[39m\u001b[38;5;132;01m{\u001b[39;00myield_percent\u001b[38;5;132;01m}\u001b[39;00m\u001b[38;5;124m %\u001b[39m\u001b[38;5;124m\"\u001b[39m)\n",
      "Cell \u001b[1;32mIn[21], line 15\u001b[0m, in \u001b[0;36mreaction_yield\u001b[1;34m(theoretical_yield, actual_yield)\u001b[0m\n\u001b[0;32m     13\u001b[0m \u001b[38;5;66;03m# Type checks: input yields should be passed as floats\u001b[39;00m\n\u001b[0;32m     14\u001b[0m \u001b[38;5;28;01mif\u001b[39;00m \u001b[38;5;129;01mnot\u001b[39;00m \u001b[38;5;28misinstance\u001b[39m(theoretical_yield, \u001b[38;5;28mfloat\u001b[39m):\n\u001b[1;32m---> 15\u001b[0m     \u001b[38;5;28;01mraise\u001b[39;00m \u001b[38;5;167;01mTypeError\u001b[39;00m(\n\u001b[0;32m     16\u001b[0m         \u001b[38;5;124mf\u001b[39m\u001b[38;5;124m\"\u001b[39m\u001b[38;5;124mInvalid type \u001b[39m\u001b[38;5;132;01m{\u001b[39;00m\u001b[38;5;28mtype\u001b[39m(theoretical_yield)\u001b[38;5;132;01m}\u001b[39;00m\u001b[38;5;124m: `theoretical_yield`\u001b[39m\u001b[38;5;124m\"\u001b[39m\n\u001b[0;32m     17\u001b[0m         \u001b[38;5;124m\"\u001b[39m\u001b[38;5;124m should be passed as a float.\u001b[39m\u001b[38;5;124m\"\u001b[39m\n\u001b[0;32m     18\u001b[0m     )\n\u001b[0;32m     19\u001b[0m \u001b[38;5;28;01mif\u001b[39;00m \u001b[38;5;129;01mnot\u001b[39;00m \u001b[38;5;28misinstance\u001b[39m(actual_yield, \u001b[38;5;28mfloat\u001b[39m):\n\u001b[0;32m     20\u001b[0m     \u001b[38;5;28;01mraise\u001b[39;00m \u001b[38;5;167;01mTypeError\u001b[39;00m(\n\u001b[0;32m     21\u001b[0m         \u001b[38;5;124mf\u001b[39m\u001b[38;5;124m\"\u001b[39m\u001b[38;5;124mInvalid type \u001b[39m\u001b[38;5;132;01m{\u001b[39;00m\u001b[38;5;28mtype\u001b[39m(actual_yield)\u001b[38;5;132;01m}\u001b[39;00m\u001b[38;5;124m: `actual_yield`\u001b[39m\u001b[38;5;124m\"\u001b[39m\n\u001b[0;32m     22\u001b[0m         \u001b[38;5;124m\"\u001b[39m\u001b[38;5;124m should be passed as a float.\u001b[39m\u001b[38;5;124m\"\u001b[39m\n\u001b[0;32m     23\u001b[0m     )\n",
      "\u001b[1;31mTypeError\u001b[0m: Invalid type <class 'str'>: `theoretical_yield` should be passed as a float."
     ]
    }
   ],
   "source": [
    "# This gives a much nicer error message than: \"TypeError: unsupported operand type(s) for /: 'int' and 'str'\"\n",
    "yield_percent = reaction_yield(\"I never took chemistry\", 101)\n",
    "print(f\"Experimental yield: {yield_percent} %\")"
   ]
  },
  {
   "cell_type": "code",
   "execution_count": 23,
   "metadata": {},
   "outputs": [
    {
     "ename": "TypeError",
     "evalue": "Invalid type <class 'int'>: `theoretical_yield` should be passed as a float.",
     "output_type": "error",
     "traceback": [
      "\u001b[1;31m---------------------------------------------------------------------------\u001b[0m",
      "\u001b[1;31mTypeError\u001b[0m                                 Traceback (most recent call last)",
      "Cell \u001b[1;32mIn[23], line 1\u001b[0m\n\u001b[1;32m----> 1\u001b[0m yield_percent \u001b[38;5;241m=\u001b[39m \u001b[43mreaction_yield\u001b[49m\u001b[43m(\u001b[49m\u001b[38;5;241;43m25\u001b[39;49m\u001b[43m,\u001b[49m\u001b[43m \u001b[49m\u001b[38;5;241;43m5\u001b[39;49m\u001b[43m)\u001b[49m  \u001b[38;5;66;03m# error!\u001b[39;00m\n\u001b[0;32m      2\u001b[0m \u001b[38;5;28mprint\u001b[39m(\u001b[38;5;124mf\u001b[39m\u001b[38;5;124m\"\u001b[39m\u001b[38;5;124mExperimental yield: \u001b[39m\u001b[38;5;132;01m{\u001b[39;00myield_percent\u001b[38;5;132;01m}\u001b[39;00m\u001b[38;5;124m %\u001b[39m\u001b[38;5;124m\"\u001b[39m)\n",
      "Cell \u001b[1;32mIn[21], line 15\u001b[0m, in \u001b[0;36mreaction_yield\u001b[1;34m(theoretical_yield, actual_yield)\u001b[0m\n\u001b[0;32m     13\u001b[0m \u001b[38;5;66;03m# Type checks: input yields should be passed as floats\u001b[39;00m\n\u001b[0;32m     14\u001b[0m \u001b[38;5;28;01mif\u001b[39;00m \u001b[38;5;129;01mnot\u001b[39;00m \u001b[38;5;28misinstance\u001b[39m(theoretical_yield, \u001b[38;5;28mfloat\u001b[39m):\n\u001b[1;32m---> 15\u001b[0m     \u001b[38;5;28;01mraise\u001b[39;00m \u001b[38;5;167;01mTypeError\u001b[39;00m(\n\u001b[0;32m     16\u001b[0m         \u001b[38;5;124mf\u001b[39m\u001b[38;5;124m\"\u001b[39m\u001b[38;5;124mInvalid type \u001b[39m\u001b[38;5;132;01m{\u001b[39;00m\u001b[38;5;28mtype\u001b[39m(theoretical_yield)\u001b[38;5;132;01m}\u001b[39;00m\u001b[38;5;124m: `theoretical_yield`\u001b[39m\u001b[38;5;124m\"\u001b[39m\n\u001b[0;32m     17\u001b[0m         \u001b[38;5;124m\"\u001b[39m\u001b[38;5;124m should be passed as a float.\u001b[39m\u001b[38;5;124m\"\u001b[39m\n\u001b[0;32m     18\u001b[0m     )\n\u001b[0;32m     19\u001b[0m \u001b[38;5;28;01mif\u001b[39;00m \u001b[38;5;129;01mnot\u001b[39;00m \u001b[38;5;28misinstance\u001b[39m(actual_yield, \u001b[38;5;28mfloat\u001b[39m):\n\u001b[0;32m     20\u001b[0m     \u001b[38;5;28;01mraise\u001b[39;00m \u001b[38;5;167;01mTypeError\u001b[39;00m(\n\u001b[0;32m     21\u001b[0m         \u001b[38;5;124mf\u001b[39m\u001b[38;5;124m\"\u001b[39m\u001b[38;5;124mInvalid type \u001b[39m\u001b[38;5;132;01m{\u001b[39;00m\u001b[38;5;28mtype\u001b[39m(actual_yield)\u001b[38;5;132;01m}\u001b[39;00m\u001b[38;5;124m: `actual_yield`\u001b[39m\u001b[38;5;124m\"\u001b[39m\n\u001b[0;32m     22\u001b[0m         \u001b[38;5;124m\"\u001b[39m\u001b[38;5;124m should be passed as a float.\u001b[39m\u001b[38;5;124m\"\u001b[39m\n\u001b[0;32m     23\u001b[0m     )\n",
      "\u001b[1;31mTypeError\u001b[0m: Invalid type <class 'int'>: `theoretical_yield` should be passed as a float."
     ]
    }
   ],
   "source": [
    "yield_percent = reaction_yield(25, 5)  # error!\n",
    "print(f\"Experimental yield: {yield_percent} %\")"
   ]
  },
  {
   "cell_type": "code",
   "execution_count": 25,
   "metadata": {},
   "outputs": [
    {
     "ename": "TypeError",
     "evalue": "Invalid type <class 'str'>: `theoretical_yield` should be passed as a float.",
     "output_type": "error",
     "traceback": [
      "\u001b[1;31m---------------------------------------------------------------------------\u001b[0m",
      "\u001b[1;31mTypeError\u001b[0m                                 Traceback (most recent call last)",
      "Cell \u001b[1;32mIn[25], line 1\u001b[0m\n\u001b[1;32m----> 1\u001b[0m yield_percent \u001b[38;5;241m=\u001b[39m \u001b[43mreaction_yield\u001b[49m\u001b[43m(\u001b[49m\u001b[38;5;124;43m\"\u001b[39;49m\u001b[38;5;124;43m25\u001b[39;49m\u001b[38;5;124;43m\"\u001b[39;49m\u001b[43m,\u001b[49m\u001b[43m \u001b[49m\u001b[38;5;124;43m\"\u001b[39;49m\u001b[38;5;124;43m5\u001b[39;49m\u001b[38;5;124;43m\"\u001b[39;49m\u001b[43m)\u001b[49m  \u001b[38;5;66;03m# error!\u001b[39;00m\n\u001b[0;32m      2\u001b[0m \u001b[38;5;28mprint\u001b[39m(\u001b[38;5;124mf\u001b[39m\u001b[38;5;124m\"\u001b[39m\u001b[38;5;124mExperimental yield: \u001b[39m\u001b[38;5;132;01m{\u001b[39;00myield_percent\u001b[38;5;132;01m}\u001b[39;00m\u001b[38;5;124m %\u001b[39m\u001b[38;5;124m\"\u001b[39m)\n",
      "Cell \u001b[1;32mIn[21], line 15\u001b[0m, in \u001b[0;36mreaction_yield\u001b[1;34m(theoretical_yield, actual_yield)\u001b[0m\n\u001b[0;32m     13\u001b[0m \u001b[38;5;66;03m# Type checks: input yields should be passed as floats\u001b[39;00m\n\u001b[0;32m     14\u001b[0m \u001b[38;5;28;01mif\u001b[39;00m \u001b[38;5;129;01mnot\u001b[39;00m \u001b[38;5;28misinstance\u001b[39m(theoretical_yield, \u001b[38;5;28mfloat\u001b[39m):\n\u001b[1;32m---> 15\u001b[0m     \u001b[38;5;28;01mraise\u001b[39;00m \u001b[38;5;167;01mTypeError\u001b[39;00m(\n\u001b[0;32m     16\u001b[0m         \u001b[38;5;124mf\u001b[39m\u001b[38;5;124m\"\u001b[39m\u001b[38;5;124mInvalid type \u001b[39m\u001b[38;5;132;01m{\u001b[39;00m\u001b[38;5;28mtype\u001b[39m(theoretical_yield)\u001b[38;5;132;01m}\u001b[39;00m\u001b[38;5;124m: `theoretical_yield`\u001b[39m\u001b[38;5;124m\"\u001b[39m\n\u001b[0;32m     17\u001b[0m         \u001b[38;5;124m\"\u001b[39m\u001b[38;5;124m should be passed as a float.\u001b[39m\u001b[38;5;124m\"\u001b[39m\n\u001b[0;32m     18\u001b[0m     )\n\u001b[0;32m     19\u001b[0m \u001b[38;5;28;01mif\u001b[39;00m \u001b[38;5;129;01mnot\u001b[39;00m \u001b[38;5;28misinstance\u001b[39m(actual_yield, \u001b[38;5;28mfloat\u001b[39m):\n\u001b[0;32m     20\u001b[0m     \u001b[38;5;28;01mraise\u001b[39;00m \u001b[38;5;167;01mTypeError\u001b[39;00m(\n\u001b[0;32m     21\u001b[0m         \u001b[38;5;124mf\u001b[39m\u001b[38;5;124m\"\u001b[39m\u001b[38;5;124mInvalid type \u001b[39m\u001b[38;5;132;01m{\u001b[39;00m\u001b[38;5;28mtype\u001b[39m(actual_yield)\u001b[38;5;132;01m}\u001b[39;00m\u001b[38;5;124m: `actual_yield`\u001b[39m\u001b[38;5;124m\"\u001b[39m\n\u001b[0;32m     22\u001b[0m         \u001b[38;5;124m\"\u001b[39m\u001b[38;5;124m should be passed as a float.\u001b[39m\u001b[38;5;124m\"\u001b[39m\n\u001b[0;32m     23\u001b[0m     )\n",
      "\u001b[1;31mTypeError\u001b[0m: Invalid type <class 'str'>: `theoretical_yield` should be passed as a float."
     ]
    }
   ],
   "source": [
    "yield_percent = reaction_yield(\"25\", \"5\")  # error!\n",
    "print(f\"Experimental yield: {yield_percent} %\")"
   ]
  },
  {
   "cell_type": "code",
   "execution_count": null,
   "metadata": {},
   "outputs": [],
   "source": []
  },
  {
   "cell_type": "code",
   "execution_count": null,
   "metadata": {},
   "outputs": [],
   "source": []
  },
  {
   "cell_type": "code",
   "execution_count": null,
   "metadata": {},
   "outputs": [],
   "source": []
  },
  {
   "cell_type": "code",
   "execution_count": null,
   "metadata": {},
   "outputs": [],
   "source": []
  },
  {
   "cell_type": "code",
   "execution_count": null,
   "metadata": {},
   "outputs": [],
   "source": []
  },
  {
   "cell_type": "code",
   "execution_count": null,
   "metadata": {},
   "outputs": [],
   "source": []
  },
  {
   "cell_type": "code",
   "execution_count": null,
   "metadata": {},
   "outputs": [],
   "source": []
  },
  {
   "cell_type": "code",
   "execution_count": null,
   "metadata": {},
   "outputs": [],
   "source": []
  },
  {
   "cell_type": "code",
   "execution_count": null,
   "metadata": {},
   "outputs": [],
   "source": []
  },
  {
   "cell_type": "code",
   "execution_count": null,
   "metadata": {},
   "outputs": [],
   "source": []
  }
 ],
 "metadata": {
  "kernelspec": {
   "display_name": "ppchem",
   "language": "python",
   "name": "python3"
  },
  "language_info": {
   "codemirror_mode": {
    "name": "ipython",
    "version": 3
   },
   "file_extension": ".py",
   "mimetype": "text/x-python",
   "name": "python",
   "nbconvert_exporter": "python",
   "pygments_lexer": "ipython3",
   "version": "3.10.13"
  }
 },
 "nbformat": 4,
 "nbformat_minor": 2
}
